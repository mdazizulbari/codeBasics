{
 "cells": [
  {
   "cell_type": "code",
   "execution_count": 10,
   "id": "4b246908-0c16-4efb-ad30-e1623fed9695",
   "metadata": {},
   "outputs": [
    {
     "data": {
      "text/plain": [
       "'SMA bari is 30 years old'"
      ]
     },
     "execution_count": 10,
     "metadata": {},
     "output_type": "execute_result"
    }
   ],
   "source": [
    "first = \"SMA\"\n",
    "last = \"bari\"\n",
    "age = 30\n",
    "name = f\"{first} {last} is {age} years old\"\n",
    "name"
   ]
  },
  {
   "cell_type": "code",
   "execution_count": 12,
   "id": "bced1565-d5b3-4c06-b4f9-c34647dc15a9",
   "metadata": {},
   "outputs": [
    {
     "name": "stdout",
     "output_type": "stream",
     "text": [
      "Put something here and there and make something.\n"
     ]
    }
   ],
   "source": [
    "recipe = \"Put something here and there and make something.\"\n",
    "print(recipe)"
   ]
  },
  {
   "cell_type": "code",
   "execution_count": 14,
   "id": "f0623a32-0c5f-4f86-a65b-6431b90f2a06",
   "metadata": {},
   "outputs": [
    {
     "data": {
      "text/plain": [
       "False"
      ]
     },
     "execution_count": 14,
     "metadata": {},
     "output_type": "execute_result"
    }
   ],
   "source": [
    "\"put\" in recipe"
   ]
  },
  {
   "cell_type": "code",
   "execution_count": 16,
   "id": "dc7770c1-539c-4f01-9890-7c7811a923f2",
   "metadata": {},
   "outputs": [
    {
     "data": {
      "text/plain": [
       "True"
      ]
     },
     "execution_count": 16,
     "metadata": {},
     "output_type": "execute_result"
    }
   ],
   "source": [
    "\"Put\" in recipe"
   ]
  },
  {
   "cell_type": "code",
   "execution_count": 20,
   "id": "1ee22dfd-5e16-45f1-b758-1f6db09f7338",
   "metadata": {},
   "outputs": [
    {
     "data": {
      "text/plain": [
       "33"
      ]
     },
     "execution_count": 20,
     "metadata": {},
     "output_type": "execute_result"
    }
   ],
   "source": [
    "something = \"make\"\n",
    "recipe.find(something)"
   ]
  },
  {
   "cell_type": "code",
   "execution_count": 23,
   "id": "d94a5a98-1bd5-45a1-bf0d-000e7a6e6b40",
   "metadata": {},
   "outputs": [
    {
     "data": {
      "text/plain": [
       "'the pc is 400tk'"
      ]
     },
     "execution_count": 23,
     "metadata": {},
     "output_type": "execute_result"
    }
   ],
   "source": [
    "string = \"the pc is 400tk\"\n",
    "string"
   ]
  },
  {
   "cell_type": "code",
   "execution_count": 27,
   "id": "397bd628-64f9-4cf1-a089-749b9cefa0fc",
   "metadata": {},
   "outputs": [
    {
     "data": {
      "text/plain": [
       "'the pc is 4000000tk'"
      ]
     },
     "execution_count": 27,
     "metadata": {},
     "output_type": "execute_result"
    }
   ],
   "source": [
    "string = string.replace(\"400\",\"4000\")\n",
    "string"
   ]
  },
  {
   "cell_type": "code",
   "execution_count": 30,
   "id": "c7738b54-80cc-4ea8-ad54-c30eaf4684d5",
   "metadata": {},
   "outputs": [
    {
     "data": {
      "text/plain": [
       "'THE PC IS 4000000TK'"
      ]
     },
     "execution_count": 30,
     "metadata": {},
     "output_type": "execute_result"
    }
   ],
   "source": [
    "string = string.upper()\n",
    "string"
   ]
  },
  {
   "cell_type": "code",
   "execution_count": 32,
   "id": "3ec79da3-de0f-4d4b-9eaa-75c2c56e17d8",
   "metadata": {},
   "outputs": [
    {
     "data": {
      "text/plain": [
       "['AAPL', 'NVDA', 'RIL']"
      ]
     },
     "execution_count": 32,
     "metadata": {},
     "output_type": "execute_result"
    }
   ],
   "source": [
    "tickers = \"AAPL|NVDA|RIL\"\n",
    "tickers.split(\"|\")"
   ]
  },
  {
   "cell_type": "code",
   "execution_count": 34,
   "id": "2ef87132-6d6a-4efd-acea-89f9b82de108",
   "metadata": {},
   "outputs": [
    {
     "data": {
      "text/plain": [
       "'         fhlwjlkjfwfwlejr'"
      ]
     },
     "execution_count": 34,
     "metadata": {},
     "output_type": "execute_result"
    }
   ],
   "source": [
    "data = \"         fhlwjlkjfwfwlejr\"\n",
    "data"
   ]
  },
  {
   "cell_type": "code",
   "execution_count": 36,
   "id": "b25828f5-d850-40b6-b981-e49468a964fc",
   "metadata": {},
   "outputs": [
    {
     "data": {
      "text/plain": [
       "'fhlwjlkjfwfwlejr'"
      ]
     },
     "execution_count": 36,
     "metadata": {},
     "output_type": "execute_result"
    }
   ],
   "source": [
    "data.strip()"
   ]
  },
  {
   "cell_type": "code",
   "execution_count": 37,
   "id": "2f4f22a6-6764-4b87-803d-ea2d3e41bb24",
   "metadata": {},
   "outputs": [
    {
     "data": {
      "text/plain": [
       "True"
      ]
     },
     "execution_count": 37,
     "metadata": {},
     "output_type": "execute_result"
    }
   ],
   "source": [
    "file_name=\"report.pdf\"\n",
    "file_name.endswith(\".pdf\")"
   ]
  }
 ],
 "metadata": {
  "kernelspec": {
   "display_name": ".venv",
   "language": "python",
   "name": "python3"
  },
  "language_info": {
   "codemirror_mode": {
    "name": "ipython",
    "version": 3
   },
   "file_extension": ".py",
   "mimetype": "text/x-python",
   "name": "python",
   "nbconvert_exporter": "python",
   "pygments_lexer": "ipython3",
   "version": "3.10.11"
  }
 },
 "nbformat": 4,
 "nbformat_minor": 5
}
