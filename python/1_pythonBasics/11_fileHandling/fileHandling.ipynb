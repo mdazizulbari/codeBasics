{
 "cells": [
  {
   "cell_type": "code",
   "execution_count": 25,
   "id": "7826222a",
   "metadata": {},
   "outputs": [
    {
     "name": "stdout",
     "output_type": "stream",
     "text": [
      "Teacher: Why are you late, raghu?\n",
      "\n",
      "Raghu: Because of the sign\n",
      "\n",
      "Teacher: What sign?\n",
      "\n",
      "Raghu: The one that says \"School Ahead, Go slow\"\n"
     ]
    }
   ],
   "source": [
    "function = open(\"funny.txt\",\"r\") # the r is indicating read mode\n",
    "for line in function:\n",
    "    print(line)\n",
    "\n",
    "function.close()"
   ]
  },
  {
   "cell_type": "code",
   "execution_count": 26,
   "id": "0c4de9a6",
   "metadata": {},
   "outputs": [
    {
     "name": "stdout",
     "output_type": "stream",
     "text": [
      "Teacher: Why are you late, raghu?\n",
      "\n",
      "Raghu: Because of the sign\n",
      "\n",
      "Teacher: What sign?\n",
      "\n",
      "Raghu: The one that says \"School Ahead, Go slow\"\n"
     ]
    }
   ],
   "source": [
    "with open(\"funny.txt\", \"r\") as function:\n",
    "    for line in function:\n",
    "        print(line)"
   ]
  },
  {
   "cell_type": "code",
   "execution_count": 27,
   "id": "85ec0e0c",
   "metadata": {},
   "outputs": [
    {
     "name": "stdout",
     "output_type": "stream",
     "text": [
      "['Teacher: Why are you late, raghu?\\n', 'Raghu: Because of the sign\\n', 'Teacher: What sign?\\n', 'Raghu: The one that says \"School Ahead, Go slow\"']\n"
     ]
    }
   ],
   "source": [
    "with open(\"funny.txt\", \"r\") as function:\n",
    "    lines = function.readlines()\n",
    "    # for line in lines:\n",
    "    print(lines)"
   ]
  },
  {
   "cell_type": "code",
   "execution_count": 28,
   "id": "7299d83d",
   "metadata": {},
   "outputs": [
    {
     "name": "stdout",
     "output_type": "stream",
     "text": [
      "Teacher: Why are you late, raghu?\n",
      "\n",
      "Raghu: Because of the sign\n",
      "\n",
      "Teacher: What sign?\n",
      "\n",
      "Raghu: The one that says \"School Ahead, Go slow\"\n"
     ]
    }
   ],
   "source": [
    "\n",
    "with open(\"funny.txt\", \"r\") as function:\n",
    "    lines = function.readlines()\n",
    "    for line in lines:\n",
    "        print(line)"
   ]
  },
  {
   "cell_type": "code",
   "execution_count": 30,
   "id": "3eb148b3",
   "metadata": {},
   "outputs": [
    {
     "data": {
      "text/plain": [
       "120"
      ]
     },
     "execution_count": 30,
     "metadata": {},
     "output_type": "execute_result"
    }
   ],
   "source": [
    "max([9,120,105])"
   ]
  },
  {
   "cell_type": "code",
   "execution_count": 32,
   "id": "7b294d98",
   "metadata": {},
   "outputs": [
    {
     "data": {
      "text/plain": [
       "[9, 120, 105]"
      ]
     },
     "execution_count": 32,
     "metadata": {},
     "output_type": "execute_result"
    }
   ],
   "source": [
    "dictionary = {\n",
    "    \"rohit\" : [9,120,105],\n",
    "    \"sakib\" : [50,34,20],\n",
    "}\n",
    "dictionary[\"rohit\"]"
   ]
  },
  {
   "cell_type": "code",
   "execution_count": 41,
   "id": "ae18366e",
   "metadata": {},
   "outputs": [
    {
     "data": {
      "text/plain": [
       "120"
      ]
     },
     "execution_count": 41,
     "metadata": {},
     "output_type": "execute_result"
    }
   ],
   "source": [
    "max(dictionary[\"rohit\"])"
   ]
  },
  {
   "cell_type": "code",
   "execution_count": 58,
   "id": "d13a2ad3",
   "metadata": {},
   "outputs": [
    {
     "data": {
      "text/plain": [
       "{'rohit': [9, 120, 105, 140, 130],\n",
       " 'shakib': [56, 78, 102, 72],\n",
       " 'babar': [56, 45, 120, 5, 67]}"
      ]
     },
     "execution_count": 58,
     "metadata": {},
     "output_type": "execute_result"
    }
   ],
   "source": [
    "player_scores = {}\n",
    "\n",
    "with open(\"scores.csv\",\"r\") as file:\n",
    "    for line in file:\n",
    "        # player, matchId,score = line.split(\",\")\n",
    "        player, _ ,score = line.split(\",\")\n",
    "        # becasue we dont need matchId\n",
    "        # _ = ignore that value\n",
    "        # print(line)\n",
    "        # print(player, _,score) \n",
    "        # variableName[key] = [value]\n",
    "        # player_scores[player] = [score]\n",
    "        score = int(score.strip())\n",
    "        # see the next note to know the reason\n",
    "        if player in player_scores:\n",
    "            player_scores[player].append(score)\n",
    "        else:\n",
    "            player_scores[player] = [score]\n",
    "        # because the player might be added multiple times, we wan to add the score in his name\n",
    "\n",
    "player_scores"
   ]
  },
  {
   "cell_type": "code",
   "execution_count": 43,
   "id": "43da24c8",
   "metadata": {},
   "outputs": [
    {
     "data": {
      "text/plain": [
       "9"
      ]
     },
     "execution_count": 43,
     "metadata": {},
     "output_type": "execute_result"
    }
   ],
   "source": [
    "int(\"9\\n\".strip())"
   ]
  },
  {
   "cell_type": "code",
   "execution_count": 59,
   "id": "6cd1f32f",
   "metadata": {},
   "outputs": [
    {
     "name": "stdout",
     "output_type": "stream",
     "text": [
      "rohit ==> Min:9, Max:140, Avg:100.8\n",
      "shakib ==> Min:56, Max:102, Avg:77.0\n",
      "babar ==> Min:5, Max:120, Avg:58.6\n"
     ]
    }
   ],
   "source": [
    "for player, score_list in player_scores.items():\n",
    "    min_score=min(score_list)\n",
    "    max_score=max(score_list)\n",
    "    avg_score=sum(score_list)/len(score_list)\n",
    "    print(f\"{player} ==> Min:{min_score}, Max:{max_score}, Avg:{avg_score}\")"
   ]
  },
  {
   "cell_type": "code",
   "execution_count": null,
   "id": "32d1bb08",
   "metadata": {},
   "outputs": [],
   "source": []
  },
  {
   "cell_type": "code",
   "execution_count": null,
   "id": "d0d1b9b8",
   "metadata": {},
   "outputs": [],
   "source": []
  },
  {
   "cell_type": "code",
   "execution_count": null,
   "id": "0c3fe951",
   "metadata": {},
   "outputs": [],
   "source": []
  }
 ],
 "metadata": {
  "kernelspec": {
   "display_name": ".venv",
   "language": "python",
   "name": "python3"
  },
  "language_info": {
   "codemirror_mode": {
    "name": "ipython",
    "version": 3
   },
   "file_extension": ".py",
   "mimetype": "text/x-python",
   "name": "python",
   "nbconvert_exporter": "python",
   "pygments_lexer": "ipython3",
   "version": "3.10.11"
  }
 },
 "nbformat": 4,
 "nbformat_minor": 5
}
