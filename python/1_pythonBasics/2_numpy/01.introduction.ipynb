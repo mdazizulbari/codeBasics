{
 "cells": [
  {
   "cell_type": "code",
   "execution_count": 1,
   "id": "012608c6",
   "metadata": {},
   "outputs": [],
   "source": [
    "import numpy as np"
   ]
  },
  {
   "cell_type": "code",
   "execution_count": null,
   "id": "b7c68911",
   "metadata": {},
   "outputs": [
    {
     "data": {
      "text/plain": [
       "array([1, 2, 3])"
      ]
     },
     "execution_count": 2,
     "metadata": {},
     "output_type": "execute_result"
    }
   ],
   "source": [
    "arr = np.array([1, 2, 3])\n",
    "arr"
   ]
  },
  {
   "cell_type": "code",
   "execution_count": 3,
   "id": "c63552cb",
   "metadata": {},
   "outputs": [
    {
     "data": {
      "text/plain": [
       "[0, 1, 2, 3, 4]"
      ]
     },
     "execution_count": 3,
     "metadata": {},
     "output_type": "execute_result"
    }
   ],
   "source": [
    "python_list = list(range(100))\n",
    "python_list[:5]"
   ]
  },
  {
   "cell_type": "code",
   "execution_count": null,
   "id": "457ed7e7",
   "metadata": {},
   "outputs": [
    {
     "data": {
      "text/plain": [
       "2400"
      ]
     },
     "execution_count": 4,
     "metadata": {},
     "output_type": "execute_result"
    }
   ],
   "source": [
    "import sys\n",
    "\n",
    "sys.getsizeof(python_list[0]) * len(python_list)"
   ]
  },
  {
   "cell_type": "code",
   "execution_count": null,
   "id": "721e8328",
   "metadata": {},
   "outputs": [
    {
     "data": {
      "text/plain": [
       "array([0, 1, 2, 3, 4])"
      ]
     },
     "execution_count": 7,
     "metadata": {},
     "output_type": "execute_result"
    }
   ],
   "source": [
    "nump_array = np.arange(100)\n",
    "nump_array[:5]"
   ]
  },
  {
   "cell_type": "code",
   "execution_count": 9,
   "id": "240148c9",
   "metadata": {},
   "outputs": [
    {
     "data": {
      "text/plain": [
       "800"
      ]
     },
     "execution_count": 9,
     "metadata": {},
     "output_type": "execute_result"
    }
   ],
   "source": [
    "nump_array.nbytes"
   ]
  },
  {
   "cell_type": "code",
   "execution_count": null,
   "id": "59966bd6",
   "metadata": {},
   "outputs": [],
   "source": []
  },
  {
   "cell_type": "code",
   "execution_count": 11,
   "id": "afde1d6b",
   "metadata": {},
   "outputs": [
    {
     "name": "stdout",
     "output_type": "stream",
     "text": [
      "1 8\n",
      "2 7\n",
      "3 9\n"
     ]
    }
   ],
   "source": [
    "l1 = [1, 2, 3]\n",
    "l2 = [8, 7, 9]\n",
    "\n",
    "# zip(l1,l2)\n",
    "# tuple(zip(l1,l2))\n",
    "for x, y in zip(l1, l2):\n",
    "    print(x, y)"
   ]
  },
  {
   "cell_type": "code",
   "execution_count": 13,
   "id": "3805fc94",
   "metadata": {},
   "outputs": [
    {
     "name": "stdout",
     "output_type": "stream",
     "text": [
      "Python list took:  0.08475804328918457\n"
     ]
    }
   ],
   "source": [
    "SIZE = 1000000\n",
    "\n",
    "l1 = list(range(SIZE))\n",
    "l2 = list(range(SIZE))\n",
    "\n",
    "start_time = time.time()\n",
    "l3 = [x+y for x,y in zip(l1,l2)]\n",
    "end_time = time.time()\n",
    "\n",
    "print(\"Python list took: \",end_time-start_time)"
   ]
  },
  {
   "cell_type": "code",
   "execution_count": 14,
   "id": "b6eaa23a",
   "metadata": {},
   "outputs": [
    {
     "data": {
      "text/plain": [
       "(array([0, 1, 2, 3]), array([0, 1, 2, 3]))"
      ]
     },
     "execution_count": 14,
     "metadata": {},
     "output_type": "execute_result"
    }
   ],
   "source": [
    "n1 = np.arange(SIZE)\n",
    "n2 = np.arange(SIZE)\n",
    "n1[:4],n2[:4]"
   ]
  },
  {
   "cell_type": "code",
   "execution_count": 15,
   "id": "66dce729",
   "metadata": {},
   "outputs": [
    {
     "name": "stdout",
     "output_type": "stream",
     "text": [
      "Numpy array took:  0.005390644073486328\n"
     ]
    }
   ],
   "source": [
    "start_time = time.time()\n",
    "n3 = n1+n2\n",
    "end_time = time.time()\n",
    "\n",
    "print(\"Numpy array took: \",end_time-start_time)"
   ]
  },
  {
   "cell_type": "code",
   "execution_count": null,
   "id": "1554d505",
   "metadata": {},
   "outputs": [],
   "source": []
  }
 ],
 "metadata": {
  "kernelspec": {
   "display_name": ".venv",
   "language": "python",
   "name": "python3"
  },
  "language_info": {
   "codemirror_mode": {
    "name": "ipython",
    "version": 3
   },
   "file_extension": ".py",
   "mimetype": "text/x-python",
   "name": "python",
   "nbconvert_exporter": "python",
   "pygments_lexer": "ipython3",
   "version": "3.10.11"
  }
 },
 "nbformat": 4,
 "nbformat_minor": 5
}
