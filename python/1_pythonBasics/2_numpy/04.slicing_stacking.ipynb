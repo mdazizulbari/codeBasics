{
 "cells": [
  {
   "cell_type": "code",
   "execution_count": null,
   "id": "108be8c3",
   "metadata": {},
   "outputs": [],
   "source": [
    "import numpy as np\n",
    "\n",
    "b = np.array([[1, 2, 3], [4, 5, 6], [7, 8, 9]])"
   ]
  },
  {
   "cell_type": "code",
   "execution_count": null,
   "id": "5b9200db",
   "metadata": {},
   "outputs": [
    {
     "data": {
      "text/plain": [
       "np.int64(6)"
      ]
     },
     "execution_count": 7,
     "metadata": {},
     "output_type": "execute_result"
    }
   ],
   "source": [
    "b[1, 2]"
   ]
  },
  {
   "cell_type": "code",
   "execution_count": null,
   "id": "09d12d34",
   "metadata": {},
   "outputs": [
    {
     "data": {
      "text/plain": [
       "array([7, 8])"
      ]
     },
     "execution_count": 9,
     "metadata": {},
     "output_type": "execute_result"
    }
   ],
   "source": [
    "b[-1, 0:2]"
   ]
  },
  {
   "cell_type": "code",
   "execution_count": null,
   "id": "51b3828b",
   "metadata": {},
   "outputs": [
    {
     "data": {
      "text/plain": [
       "array([[2, 3],\n",
       "       [5, 6],\n",
       "       [8, 9]])"
      ]
     },
     "execution_count": 11,
     "metadata": {},
     "output_type": "execute_result"
    }
   ],
   "source": [
    "b[:, 1:3]"
   ]
  },
  {
   "cell_type": "code",
   "execution_count": null,
   "id": "8736b3a3",
   "metadata": {},
   "outputs": [],
   "source": [
    "# Customer ID, Name\n",
    "c = np.array([[101, \"Mira\"], [102, \"Abdul\"], [103, \"Andrea\"]])\n",
    "# Customer Id, Purchase Amount, Purchase Date\n",
    "d = np.array(\n",
    "    [\n",
    "        [101, 250.50, \"2023-08-01\"],\n",
    "        [102, 150.00, \"2023-08-02\"],\n",
    "        [103, 300.75, \"2023-08-01\"],\n",
    "    ]\n",
    ")"
   ]
  },
  {
   "cell_type": "code",
   "execution_count": null,
   "id": "0f8985a7",
   "metadata": {},
   "outputs": [
    {
     "data": {
      "text/plain": [
       "array([['101', 'Mira', '101', '250.5', '2023-08-01'],\n",
       "       ['102', 'Abdul', '102', '150.0', '2023-08-02'],\n",
       "       ['103', 'Andrea', '103', '300.75', '2023-08-01']], dtype='<U32')"
      ]
     },
     "execution_count": 14,
     "metadata": {},
     "output_type": "execute_result"
    }
   ],
   "source": [
    "np.hstack((c, d))"
   ]
  },
  {
   "cell_type": "code",
   "execution_count": null,
   "id": "2abe4009",
   "metadata": {},
   "outputs": [],
   "source": [
    "e = np.array(\n",
    "    [\n",
    "        [104, \"Venkat\"],\n",
    "        [105, \"John\"],\n",
    "        [106, \"Kathy\"],\n",
    "    ]\n",
    ")"
   ]
  },
  {
   "cell_type": "code",
   "execution_count": null,
   "id": "1ca7595b",
   "metadata": {},
   "outputs": [
    {
     "data": {
      "text/plain": [
       "array([['101', 'Mira'],\n",
       "       ['102', 'Abdul'],\n",
       "       ['103', 'Andrea'],\n",
       "       ['104', 'Venkat'],\n",
       "       ['105', 'John'],\n",
       "       ['106', 'Kathy']], dtype='<U21')"
      ]
     },
     "execution_count": 17,
     "metadata": {},
     "output_type": "execute_result"
    }
   ],
   "source": [
    "np.vstack((c, e))"
   ]
  },
  {
   "cell_type": "code",
   "execution_count": null,
   "id": "90e5e3eb",
   "metadata": {},
   "outputs": [],
   "source": [
    "transactions = np.array(\n",
    "    [\n",
    "        [101, \"Mohan\", 250.50, \"2023-08-01\"],\n",
    "        [102, \"Bob\", 150.00, \"2023-08-02\"],\n",
    "        [103, \"Fatima\", 300.75, \"2023-08-01\"],\n",
    "        [104, \"David\", 400.20, \"2023-08-03\"],\n",
    "        [105, \"Aryan\", 330.1, \"2023-08-04\"],\n",
    "    ]\n",
    ")\n",
    "\n",
    "a, b = np.hsplit(transactions, [2])"
   ]
  },
  {
   "cell_type": "code",
   "execution_count": 24,
   "id": "38878157",
   "metadata": {},
   "outputs": [
    {
     "data": {
      "text/plain": [
       "array([['101', 'Mohan'],\n",
       "       ['102', 'Bob'],\n",
       "       ['103', 'Fatima'],\n",
       "       ['104', 'David'],\n",
       "       ['105', 'Aryan']], dtype='<U32')"
      ]
     },
     "execution_count": 24,
     "metadata": {},
     "output_type": "execute_result"
    }
   ],
   "source": [
    "a"
   ]
  },
  {
   "cell_type": "code",
   "execution_count": 26,
   "id": "086ea389",
   "metadata": {},
   "outputs": [
    {
     "data": {
      "text/plain": [
       "array([['250.5', '2023-08-01'],\n",
       "       ['150.0', '2023-08-02'],\n",
       "       ['300.75', '2023-08-01'],\n",
       "       ['400.2', '2023-08-03'],\n",
       "       ['330.1', '2023-08-04']], dtype='<U32')"
      ]
     },
     "execution_count": 26,
     "metadata": {},
     "output_type": "execute_result"
    }
   ],
   "source": [
    "b"
   ]
  },
  {
   "cell_type": "code",
   "execution_count": null,
   "id": "9113d8ca",
   "metadata": {},
   "outputs": [],
   "source": []
  },
  {
   "cell_type": "code",
   "execution_count": 28,
   "id": "f4c88fa4",
   "metadata": {},
   "outputs": [
    {
     "data": {
      "text/plain": [
       "array([ True, False, False,  True, False])"
      ]
     },
     "execution_count": 28,
     "metadata": {},
     "output_type": "execute_result"
    }
   ],
   "source": [
    "monthly_sales = np.array([30, 33, 35, 28, 42])\n",
    "\n",
    "result = monthly_sales < 32\n",
    "result"
   ]
  },
  {
   "cell_type": "code",
   "execution_count": 29,
   "id": "aa2d9246",
   "metadata": {},
   "outputs": [
    {
     "data": {
      "text/plain": [
       "array([30, 28])"
      ]
     },
     "execution_count": 29,
     "metadata": {},
     "output_type": "execute_result"
    }
   ],
   "source": [
    "monthly_sales[result]"
   ]
  },
  {
   "cell_type": "code",
   "execution_count": 32,
   "id": "bf82b2b6",
   "metadata": {},
   "outputs": [
    {
     "data": {
      "text/plain": [
       "np.int64(4)"
      ]
     },
     "execution_count": 32,
     "metadata": {},
     "output_type": "execute_result"
    }
   ],
   "source": [
    "index = np.argmax(monthly_sales)\n",
    "index"
   ]
  },
  {
   "cell_type": "code",
   "execution_count": 34,
   "id": "787a81e8",
   "metadata": {},
   "outputs": [
    {
     "data": {
      "text/plain": [
       "np.int64(42)"
      ]
     },
     "execution_count": 34,
     "metadata": {},
     "output_type": "execute_result"
    }
   ],
   "source": [
    "monthly_sales[index]"
   ]
  },
  {
   "cell_type": "code",
   "execution_count": 36,
   "id": "fabdcf4a",
   "metadata": {},
   "outputs": [
    {
     "data": {
      "text/plain": [
       "array([['101', 'Mohan', '250.5', '2023-08-01'],\n",
       "       ['102', 'Bob', '150.0', '2023-08-02'],\n",
       "       ['103', 'Fatima', '300.75', '2023-08-01'],\n",
       "       ['104', 'David', '400.2', '2023-08-03'],\n",
       "       ['105', 'Aryan', '330.1', '2023-08-04']], dtype='<U32')"
      ]
     },
     "execution_count": 36,
     "metadata": {},
     "output_type": "execute_result"
    }
   ],
   "source": [
    "transactions"
   ]
  },
  {
   "cell_type": "code",
   "execution_count": null,
   "id": "dfc5316a",
   "metadata": {},
   "outputs": [
    {
     "data": {
      "text/plain": [
       "array(['250.5', '150.0', '300.75', '400.2', '330.1'], dtype='<U32')"
      ]
     },
     "execution_count": 38,
     "metadata": {},
     "output_type": "execute_result"
    }
   ],
   "source": [
    "transactions[:, 2]"
   ]
  },
  {
   "cell_type": "code",
   "execution_count": null,
   "id": "c7d77dbc",
   "metadata": {},
   "outputs": [
    {
     "data": {
      "text/plain": [
       "array([250.5 , 150.  , 300.75, 400.2 , 330.1 ])"
      ]
     },
     "execution_count": 40,
     "metadata": {},
     "output_type": "execute_result"
    }
   ],
   "source": [
    "transactions[:, 2].astype(float)"
   ]
  },
  {
   "cell_type": "code",
   "execution_count": 43,
   "id": "f646d27d",
   "metadata": {},
   "outputs": [
    {
     "data": {
      "text/plain": [
       "np.int64(3)"
      ]
     },
     "execution_count": 43,
     "metadata": {},
     "output_type": "execute_result"
    }
   ],
   "source": [
    "index = np.argmax(transactions[:, 2].astype(float))\n",
    "index\n"
   ]
  },
  {
   "cell_type": "code",
   "execution_count": null,
   "id": "12b44342",
   "metadata": {},
   "outputs": [],
   "source": []
  },
  {
   "cell_type": "code",
   "execution_count": null,
   "id": "890dab88",
   "metadata": {},
   "outputs": [],
   "source": []
  },
  {
   "cell_type": "code",
   "execution_count": null,
   "id": "cecbb592",
   "metadata": {},
   "outputs": [],
   "source": []
  }
 ],
 "metadata": {
  "kernelspec": {
   "display_name": ".venv",
   "language": "python",
   "name": "python3"
  },
  "language_info": {
   "codemirror_mode": {
    "name": "ipython",
    "version": 3
   },
   "file_extension": ".py",
   "mimetype": "text/x-python",
   "name": "python",
   "nbconvert_exporter": "python",
   "pygments_lexer": "ipython3",
   "version": "3.10.11"
  }
 },
 "nbformat": 4,
 "nbformat_minor": 5
}
