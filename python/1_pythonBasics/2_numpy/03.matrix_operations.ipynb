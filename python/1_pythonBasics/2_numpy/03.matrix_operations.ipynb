{
 "cells": [
  {
   "cell_type": "code",
   "execution_count": 2,
   "id": "e53af29d",
   "metadata": {},
   "outputs": [],
   "source": [
    "import numpy as np"
   ]
  },
  {
   "cell_type": "code",
   "execution_count": null,
   "id": "ce7f98a9",
   "metadata": {},
   "outputs": [],
   "source": [
    "# Sales data for Quarter 1 (Matrix 1)\n",
    "# Rows represent different products, columns represent different regions\n",
    "\n",
    "q1 = np.array(\n",
    "    [\n",
    "        [200, 220, 250],  # Product A\n",
    "        [150, 180, 210],  # Product B\n",
    "        [300, 330, 360],  # Product C\n",
    "    ]\n",
    ")\n",
    "\n",
    "q2 = np.array(\n",
    "    [\n",
    "        [209, 231, 259],  # Product A\n",
    "        [155, 192, 222],  # Product B\n",
    "        [310, 340, 375],  # Product C\n",
    "    ]\n",
    ")"
   ]
  },
  {
   "cell_type": "code",
   "execution_count": null,
   "id": "c35e5cfe",
   "metadata": {},
   "outputs": [
    {
     "data": {
      "text/plain": [
       "array([[409, 451, 509],\n",
       "       [305, 372, 432],\n",
       "       [610, 670, 735]])"
      ]
     },
     "execution_count": 6,
     "metadata": {},
     "output_type": "execute_result"
    }
   ],
   "source": [
    "q1 + q2"
   ]
  },
  {
   "cell_type": "code",
   "execution_count": null,
   "id": "70dfec14",
   "metadata": {},
   "outputs": [
    {
     "data": {
      "text/plain": [
       "array([[ 9, 11,  9],\n",
       "       [ 5, 12, 12],\n",
       "       [10, 10, 15]])"
      ]
     },
     "execution_count": 9,
     "metadata": {},
     "output_type": "execute_result"
    }
   ],
   "source": [
    "q2 - q1"
   ]
  },
  {
   "cell_type": "code",
   "execution_count": 11,
   "id": "6605c046",
   "metadata": {},
   "outputs": [
    {
     "data": {
      "text/plain": [
       "array([[4.5       , 5.        , 3.6       ],\n",
       "       [3.33333333, 6.66666667, 5.71428571],\n",
       "       [3.33333333, 3.03030303, 4.16666667]])"
      ]
     },
     "execution_count": 11,
     "metadata": {},
     "output_type": "execute_result"
    }
   ],
   "source": [
    "(q2 - q1) * 100 / q1  # value in percentage"
   ]
  },
  {
   "cell_type": "code",
   "execution_count": 13,
   "id": "6d4d8ec3",
   "metadata": {},
   "outputs": [
    {
     "data": {
      "text/plain": [
       "array([[2000, 2640, 2750],\n",
       "       [1200, 1620, 2100],\n",
       "       [4500, 5280, 6120]])"
      ]
     },
     "execution_count": 13,
     "metadata": {},
     "output_type": "execute_result"
    }
   ],
   "source": [
    "prices = np.array([\n",
    "    [10, 12, 11],  # Prices for Product A in different regions\n",
    "    [8,  9,  10],  # Prices for Product B\n",
    "    [15, 16, 17]   # Prices for Product C\n",
    "])\n",
    "\n",
    "q1_revenue = q1 * prices\n",
    "q1_revenue"
   ]
  },
  {
   "cell_type": "code",
   "execution_count": null,
   "id": "9239791a",
   "metadata": {},
   "outputs": [],
   "source": []
  }
 ],
 "metadata": {
  "kernelspec": {
   "display_name": ".venv",
   "language": "python",
   "name": "python3"
  },
  "language_info": {
   "codemirror_mode": {
    "name": "ipython",
    "version": 3
   },
   "file_extension": ".py",
   "mimetype": "text/x-python",
   "name": "python",
   "nbconvert_exporter": "python",
   "pygments_lexer": "ipython3",
   "version": "3.10.11"
  }
 },
 "nbformat": 4,
 "nbformat_minor": 5
}
