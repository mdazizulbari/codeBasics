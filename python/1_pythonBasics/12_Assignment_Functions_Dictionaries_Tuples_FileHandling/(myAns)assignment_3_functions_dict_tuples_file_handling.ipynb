{
 "cells": [
  {
   "cell_type": "markdown",
   "metadata": {},
   "source": [
    "<h2 align=\"center\" style=\"color:blue\">Codebasics Python Course: Exercise - Functions, Dict, Tuples, File Handling</h2>"
   ]
  },
  {
   "cell_type": "markdown",
   "metadata": {},
   "source": [
    "Imagine you run a loyalty program where customers earn rewards based on the total amount they have spent. The rewards levels are defined based on the total purchase amount. Based on this scenario, complete the following tasks"
   ]
  },
  {
   "cell_type": "markdown",
   "metadata": {},
   "source": [
    "### Task 1\n",
    "\n",
    "You are given a file called ```customers.txt``` that contains the name of the customer and total amount they spent. Read this file line by line and save the customer name and total amount in a dictionary.\n",
    "\n",
    "For example, customers.txt file will content the data in the following format,\n",
    "```\n",
    "Srinivas,120\n",
    "John,250\n",
    "Maria,150\n",
    "Smith,510\n",
    "Anjali,45\n",
    "```\n",
    "\n",
    "You will read this and build a dictionary like this,\n",
    "```\n",
    "{\n",
    "    \"Srinivas\": 120,\n",
    "    \"John\": 250,\n",
    "    \"Maria\": 150,\n",
    "    \"Smith\": 510,\n",
    "    \"Anjali\": 45\n",
    "}\n",
    "```"
   ]
  },
  {
   "cell_type": "code",
   "execution_count": 2,
   "metadata": {},
   "outputs": [
    {
     "data": {
      "text/plain": [
       "{'Srinivas': '120',\n",
       " 'John': '250',\n",
       " 'Maria': '150',\n",
       " 'Smith': '510',\n",
       " 'Anjali': '45'}"
      ]
     },
     "execution_count": 2,
     "metadata": {},
     "output_type": "execute_result"
    }
   ],
   "source": [
    "# write your code here\n",
    "with open(\"customers.txt\",\"w\") as f:\n",
    "    f.write(\"\"\"Srinivas,120\n",
    "John,250\n",
    "Maria,150\n",
    "Smith,510\n",
    "Anjali,45\n",
    "\"\"\")\n",
    "\n",
    "dictionary = {}\n",
    "with open(\"customers.txt\",\"r\") as f:\n",
    "    for line in f:\n",
    "        line = line.strip()\n",
    "        # print(line)\n",
    "        key,value = line.split(\",\")\n",
    "        # print(key)\n",
    "        # print(value)\n",
    "        dictionary[key] = value\n",
    "\n",
    "dictionary"
   ]
  },
  {
   "cell_type": "markdown",
   "metadata": {},
   "source": [
    "### Task 2\n",
    "\n",
    "The rewards levels are defined below based on the total purchase amount. Using this define a function called calculate_rewards that takes total as input and returns the reward.\n",
    "\n",
    "```\n",
    "1. Bronze: Total purchases $100-$199\n",
    "1. Silver: Total purchases $200-$499\n",
    "1. Gold: Total purchases $500+\n",
    "```"
   ]
  },
  {
   "cell_type": "code",
   "execution_count": 3,
   "metadata": {},
   "outputs": [],
   "source": [
    "# write your code here\n",
    "def calculate_rewards(total):\n",
    "    if(total >= 100 and total <= 199):\n",
    "        # print(\"Bronze\")\n",
    "        return \"Bronze\"\n",
    "    if(total >= 200 and total <= 499):\n",
    "        # print(\"Silver\")\n",
    "        return \"Silver\"\n",
    "    if(total >= 500 ):\n",
    "        # print(\"Gold\")\n",
    "        return \"Gold\"\n",
    "\n",
    "# calculate_rewards(546)"
   ]
  },
  {
   "cell_type": "markdown",
   "metadata": {},
   "source": [
    "### Task 3\n",
    "\n",
    "Now for each of the customers in our customers_dict, calculate the rewards and build a customers_summary dictionary that looks like the following, (key is the name of the customer and the value is a tuple containing total amount and rewards level)\n",
    "\n",
    "```\n",
    "{\n",
    "    'Srinivas': (120, 'Bronze'),\n",
    "    'John': (250, 'Silver'),\n",
    "    'Maria': (150, 'Bronze'),\n",
    "    'Smith': (510, 'Gold'),\n",
    "    'Anjali': (45, 'None')\n",
    "}\n",
    "```"
   ]
  },
  {
   "cell_type": "code",
   "execution_count": 5,
   "metadata": {},
   "outputs": [
    {
     "name": "stdout",
     "output_type": "stream",
     "text": [
      "{'Srinivas': (120, 'Bronze'), 'John': (250, 'Silver'), 'Maria': (150, 'Bronze'), 'Smith': (510, 'Gold'), 'Anjali': (45, None)}\n"
     ]
    },
    {
     "data": {
      "text/plain": [
       "{'Srinivas': (120, 'Bronze'),\n",
       " 'John': (250, 'Silver'),\n",
       " 'Maria': (150, 'Bronze'),\n",
       " 'Smith': (510, 'Gold'),\n",
       " 'Anjali': (45, None)}"
      ]
     },
     "execution_count": 5,
     "metadata": {},
     "output_type": "execute_result"
    }
   ],
   "source": [
    "# write your code here\n",
    "\n",
    "customer_summary_dict = {}\n",
    "for key, value in dictionary.items():\n",
    "        value = int(value)\n",
    "        reward = calculate_rewards(value)\n",
    "        # print(reward)\n",
    "        customer_summary_dict[key] = (value,reward)\n",
    "\n",
    "customer_summary_dict"
   ]
  },
  {
   "cell_type": "markdown",
   "metadata": {},
   "source": [
    "### Task 4\n",
    "\n",
    "Now stitch all of the above code together and create a function that takes file name as input and returns the customer_summary dictionary.\n",
    "\n",
    "```\n",
    "def process_customer_data(file_name):\n",
    "    # return customer_summary dict\n",
    "```"
   ]
  },
  {
   "cell_type": "code",
   "execution_count": 7,
   "metadata": {},
   "outputs": [
    {
     "data": {
      "text/plain": [
       "{'Srinivas': (120, 'Bronze'),\n",
       " 'John': (250, 'Silver'),\n",
       " 'Maria': (150, 'Bronze'),\n",
       " 'Smith': (510, 'Gold'),\n",
       " 'Anjali': (45, None)}"
      ]
     },
     "execution_count": 7,
     "metadata": {},
     "output_type": "execute_result"
    }
   ],
   "source": [
    "# write your code here\n",
    "\n",
    "def calculate_rewards(total):\n",
    "    if(total >= 100 and total <= 199):\n",
    "        return \"Bronze\"\n",
    "    if(total >= 200 and total <= 499):\n",
    "        return \"Silver\"\n",
    "    if(total >= 500 ):\n",
    "        return \"Gold\"\n",
    "\n",
    "def handleCustomer():\n",
    "    fileName = input(\"Enter File Name: \")\n",
    "    \n",
    "    customers_dict = {}\n",
    "    with open(fileName,\"r\") as f:\n",
    "     for line in f:\n",
    "        line = line.strip()\n",
    "        key,value = line.split(\",\")\n",
    "        customers_dict[key] = value\n",
    "\n",
    "    customer_summary_dict = {}\n",
    "    for key, value in dictionary.items():\n",
    "        value = int(value)\n",
    "        reward = calculate_rewards(value)\n",
    "        # print(reward)\n",
    "        customer_summary_dict[key] = (value,reward)\n",
    "\n",
    "    return customer_summary_dict\n",
    "\n",
    "handleCustomer()"
   ]
  }
 ],
 "metadata": {
  "colab": {
   "collapsed_sections": [],
   "name": "1_Variables.ipynb",
   "provenance": []
  },
  "kernelspec": {
   "display_name": ".venv",
   "language": "python",
   "name": "python3"
  },
  "language_info": {
   "codemirror_mode": {
    "name": "ipython",
    "version": 3
   },
   "file_extension": ".py",
   "mimetype": "text/x-python",
   "name": "python",
   "nbconvert_exporter": "python",
   "pygments_lexer": "ipython3",
   "version": "3.10.11"
  }
 },
 "nbformat": 4,
 "nbformat_minor": 1
}
