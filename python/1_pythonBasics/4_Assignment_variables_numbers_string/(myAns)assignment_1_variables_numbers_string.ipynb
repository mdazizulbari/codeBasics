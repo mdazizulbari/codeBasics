{
 "cells": [
  {
   "cell_type": "markdown",
   "metadata": {},
   "source": [
    "<h2 align=\"center\" style=\"color:blue\">Codebasics Python Course: Exercise - Variables, Numbers, Strings</h2>"
   ]
  },
  {
   "cell_type": "markdown",
   "metadata": {
    "id": "QAGsAcQXOm1c"
   },
   "source": [
    "### Task 1\n",
    "\n",
    "Create a variable named pi and store the value 22/7 in it. Now check the data type of this variable."
   ]
  },
  {
   "cell_type": "code",
   "execution_count": 1,
   "metadata": {
    "id": "5DbTb-5gOecw"
   },
   "outputs": [
    {
     "data": {
      "text/plain": [
       "float"
      ]
     },
     "execution_count": 1,
     "metadata": {},
     "output_type": "execute_result"
    }
   ],
   "source": [
    "# write your code here\n",
    "pi = 22/7\n",
    "type(pi)"
   ]
  },
  {
   "cell_type": "markdown",
   "metadata": {},
   "source": [
    "### Task 2\n",
    "\n",
    "Create a variable called ```for``` and assign it a value 4. See what happens and find out the reason behind the behavior that you see."
   ]
  },
  {
   "cell_type": "code",
   "execution_count": 2,
   "metadata": {
    "colab": {
     "base_uri": "https://localhost:8080/",
     "height": 130
    },
    "id": "qHskWLeFPUSa",
    "outputId": "45d183f1-a28a-4e80-aee3-90d984dbbfae"
   },
   "outputs": [
    {
     "ename": "SyntaxError",
     "evalue": "invalid syntax (4203740755.py, line 2)",
     "output_type": "error",
     "traceback": [
      "\u001b[0;36m  Cell \u001b[0;32mIn[2], line 2\u001b[0;36m\u001b[0m\n\u001b[0;31m    for = 4\u001b[0m\n\u001b[0m        ^\u001b[0m\n\u001b[0;31mSyntaxError\u001b[0m\u001b[0;31m:\u001b[0m invalid syntax\n"
     ]
    }
   ],
   "source": [
    "# write your code here\n",
    "for = 4\n",
    "# it's a reserved word in Python"
   ]
  },
  {
   "cell_type": "markdown",
   "metadata": {},
   "source": [
    "### Task 3\n",
    "\n",
    "Below we have defined the variables for storing the principal amount, rate of interest and time. You need to calculate the simple interest for 3 years. Once simple interest is calculated, calculate the total amount you will have at the end of the tenure"
   ]
  },
  {
   "cell_type": "code",
   "execution_count": 2,
   "metadata": {
    "id": "h-7Ro-oVQDVB"
   },
   "outputs": [],
   "source": [
    "principle_amount = 567.00\n",
    "rate_of_interest = 5.6\n",
    "time = 3"
   ]
  },
  {
   "cell_type": "markdown",
   "metadata": {
    "id": "vlTW7195RAUb"
   },
   "source": [
    "Now let's calculate the simple intrest using simple math formula:\n",
    "\n",
    "`simple interest  = P x R x T / 100`\n",
    "\n",
    "where: \n",
    " \n",
    "    P = principle amount\n",
    "    R = rate of interest\n",
    "    T = time \n",
    "\n"
   ]
  },
  {
   "cell_type": "code",
   "execution_count": 9,
   "metadata": {
    "id": "36-AbY5WQemi"
   },
   "outputs": [
    {
     "data": {
      "text/plain": [
       "95.25599999999999"
      ]
     },
     "execution_count": 9,
     "metadata": {},
     "output_type": "execute_result"
    }
   ],
   "source": [
    "# calculate simple interest\n",
    "interest = principle_amount * rate_of_interest * time / 100\n",
    "interest"
   ]
  },
  {
   "cell_type": "code",
   "execution_count": 10,
   "metadata": {
    "colab": {
     "base_uri": "https://localhost:8080/"
    },
    "id": "6OXTiuuIQyu4",
    "outputId": "effe44d7-640a-44a5-f9a7-8d3a9c3cbbc6"
   },
   "outputs": [
    {
     "data": {
      "text/plain": [
       "662.256"
      ]
     },
     "execution_count": 10,
     "metadata": {},
     "output_type": "execute_result"
    }
   ],
   "source": [
    "# calculate total amount after including interest\n",
    "total_interest = principle_amount + interest\n",
    "total_interest\n"
   ]
  },
  {
   "cell_type": "markdown",
   "metadata": {},
   "source": [
    "### Task 4\n",
    "\n",
    "There is a circular pond in a village. This pond has a radius of 84 meter. Can you find the area of the pond?"
   ]
  },
  {
   "cell_type": "code",
   "execution_count": 11,
   "metadata": {
    "scrolled": true
   },
   "outputs": [
    {
     "data": {
      "text/plain": [
       "22167.07776372958"
      ]
     },
     "execution_count": 11,
     "metadata": {},
     "output_type": "execute_result"
    }
   ],
   "source": [
    "# write your code here\n",
    "import math\n",
    "pi = math.pi\n",
    "radius = 84\n",
    "area = pi * (radius**2)\n",
    "area"
   ]
  },
  {
   "cell_type": "markdown",
   "metadata": {},
   "source": [
    "### Task 5\n",
    "\n",
    "If there is a 2000 liter water in a square meter, what is the total amount of water in this pond?\n",
    "\n",
    "**Note:** For simplicity, use the value of pi as 3.14."
   ]
  },
  {
   "cell_type": "code",
   "execution_count": 13,
   "metadata": {},
   "outputs": [
    {
     "data": {
      "text/plain": [
       "44334155.52745916"
      ]
     },
     "execution_count": 13,
     "metadata": {},
     "output_type": "execute_result"
    }
   ],
   "source": [
    "# write your code here\n",
    "oneSQM= 2000\n",
    "total_water = area* oneSQM\n",
    "total_water"
   ]
  },
  {
   "cell_type": "markdown",
   "metadata": {},
   "source": [
    "### Task 6\n",
    "\n",
    "If you cross a 490-meter-long street in 7 minutes, then what is your speed in meter per seconds. Print your answer with only two decimal points\n",
    "\n",
    "Hint:\n",
    "        Speed = Distance / Time"
   ]
  },
  {
   "cell_type": "code",
   "execution_count": 14,
   "metadata": {},
   "outputs": [
    {
     "data": {
      "text/plain": [
       "1.1666666666666667"
      ]
     },
     "execution_count": 14,
     "metadata": {},
     "output_type": "execute_result"
    }
   ],
   "source": [
    "# write your code here\n",
    "secondsNeeded= 7*60\n",
    "street = 490\n",
    "mps = street/secondsNeeded\n",
    "mps"
   ]
  },
  {
   "cell_type": "markdown",
   "metadata": {},
   "source": [
    "### Task 7\n",
    "\n",
    "Create two variables to store how many fruits and vegetables you eat in a day. The value should be numeric for example 3 fruits and 4 vegetables. Now Print \"I eat x vegetables and y fruits daily\" where x and y presents vegetables and fruits that you eat every day. Use python f string for this."
   ]
  },
  {
   "cell_type": "code",
   "execution_count": 15,
   "metadata": {},
   "outputs": [
    {
     "name": "stdout",
     "output_type": "stream",
     "text": [
      "I eat 4 vegetables and 3 fruits daily\n"
     ]
    }
   ],
   "source": [
    "# write your code here\n",
    "fruits = 3\n",
    "vegetables = 4\n",
    "print(f\"I eat {vegetables} vegetables and {fruits} fruits daily\")"
   ]
  },
  {
   "cell_type": "markdown",
   "metadata": {},
   "source": [
    "### Task 8\n",
    "\n",
    "Create a variable and store the string “The Himalayas are one of the youngest mountain range on the planet.”\n",
    "\n",
    "1. Print ‘The Himalayas’ using slice operator\n",
    "1. Print “mountain range” using negative index\n",
    "1. Print “The Himalayas on the planet” using slice as well as f-string"
   ]
  },
  {
   "cell_type": "code",
   "execution_count": 54,
   "metadata": {},
   "outputs": [
    {
     "name": "stdout",
     "output_type": "stream",
     "text": [
      "The Himalayas\n",
      "-29 -15 53 67\n",
      "mountain range\n",
      "The Himalayas on the planet\n"
     ]
    }
   ],
   "source": [
    "# write your code here\n",
    "string = \"The Himalayas are one of the youngest mountain range on the planet.\"\n",
    "are = string.find(\"are\")\n",
    "are = are -1\n",
    "sliceVar = string[0:are]\n",
    "print(sliceVar)\n",
    "\n",
    "\n",
    "stringLength = len(string)\n",
    "mountain = string.find(\"mountain\")\n",
    "negMountain = mountain - stringLength\n",
    "\n",
    "on = string.find(\"on \")\n",
    "negRange = on - stringLength -1\n",
    "print(negMountain,negRange,on,stringLength)\n",
    "slice2 = string[negMountain:negRange]\n",
    "print(slice2)\n",
    "\n",
    "\n",
    "print(f\"{sliceVar} on the planet\")"
   ]
  },
  {
   "cell_type": "markdown",
   "metadata": {},
   "source": [
    "### Task 9\n",
    "\n",
    "You have created a string variable called string= ”There are 9 planets in the solar system”. After some time, you have realized that your sentence is incorrect and there are only 8 planets, now correct your sentence by replacing the incorrect words."
   ]
  },
  {
   "cell_type": "code",
   "execution_count": 55,
   "metadata": {},
   "outputs": [
    {
     "data": {
      "text/plain": [
       "'There are 8 planets in the solar system'"
      ]
     },
     "execution_count": 55,
     "metadata": {},
     "output_type": "execute_result"
    }
   ],
   "source": [
    "# write your code here\n",
    "string= \"There are 9 planets in the solar system\"\n",
    "string = string.replace(\"9\",\"8\")\n",
    "string"
   ]
  },
  {
   "cell_type": "markdown",
   "metadata": {},
   "source": [
    "### Task 10\n",
    "\n",
    "Imagine you are a shop owner tracking sales of three products throughout the day. At the end of the day, you want to calculate the total sales from these products. Product quantity and prices are given below in the next code cell,\n",
    "\n",
    "Task: Write a program that:\n",
    "\n",
    "1. Calculates the total sales for each product.\n",
    "1. Summarizes the total sales for the day.\n",
    "1. Prints this summary in a formatted manner.\n",
    "\n",
    "Expected Output:\n",
    "\n",
    "```\n",
    "Daily Sales Summary:\n",
    "- Product 1: Sold 15 units at $20.0 each, Total: $300.0\n",
    "- Product 2: Sold 10 units at $35.0 each, Total: $350.0\n",
    "- Product 3: Sold 20 units at $12.0 each, Total: $240.0\n",
    "Total Sales for the Day: $890.0\n",
    "```"
   ]
  },
  {
   "cell_type": "code",
   "execution_count": 56,
   "metadata": {},
   "outputs": [],
   "source": [
    "# Prices and quantities for each product\n",
    "product1_price = 20.0  # Price per unit for product 1\n",
    "product1_quantity = 15  # Quantity sold of product 1\n",
    "\n",
    "product2_price = 35.0  # Price per unit for product 2\n",
    "product2_quantity = 10  # Quantity sold of product 2\n",
    "\n",
    "product3_price = 12.0  # Price per unit for product 3\n",
    "product3_quantity = 20  # Quantity sold of product 3"
   ]
  },
  {
   "cell_type": "code",
   "execution_count": 58,
   "metadata": {},
   "outputs": [
    {
     "name": "stdout",
     "output_type": "stream",
     "text": [
      "\n",
      "Daily Sales Summary:\n",
      "- Product 1: Sold 15 units at $20.0, Total: $300.0\n",
      "- Product 2: Sold 10 units at $35.0, Total: $350.0\n",
      "- Product 3: Sold 20 units at $12.0, Total: $240.0\n",
      "      \n"
     ]
    }
   ],
   "source": [
    "# write your code here\n",
    "print(f'''\n",
    "Daily Sales Summary:\n",
    "- Product 1: Sold {product1_quantity} units at ${product1_price}, Total: ${product1_price*product1_quantity}\n",
    "- Product 2: Sold {product2_quantity} units at ${product2_price}, Total: ${product2_price*product2_quantity}\n",
    "- Product 3: Sold {product3_quantity} units at ${product3_price}, Total: ${product3_price*product3_quantity}\n",
    "      ''')\n"
   ]
  }
 ],
 "metadata": {
  "colab": {
   "collapsed_sections": [],
   "name": "1_Variables.ipynb",
   "provenance": []
  },
  "kernelspec": {
   "display_name": ".venv",
   "language": "python",
   "name": "python3"
  },
  "language_info": {
   "codemirror_mode": {
    "name": "ipython",
    "version": 3
   },
   "file_extension": ".py",
   "mimetype": "text/x-python",
   "name": "python",
   "nbconvert_exporter": "python",
   "pygments_lexer": "ipython3",
   "version": "3.10.11"
  }
 },
 "nbformat": 4,
 "nbformat_minor": 4
}
