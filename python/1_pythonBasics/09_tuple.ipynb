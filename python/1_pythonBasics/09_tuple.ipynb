{
 "cells": [
  {
   "cell_type": "code",
   "execution_count": 1,
   "id": "initial_id",
   "metadata": {
    "ExecuteTime": {
     "end_time": "2025-10-22T13:43:23.438361Z",
     "start_time": "2025-10-22T13:43:23.417728Z"
    },
    "collapsed": true
   },
   "outputs": [],
   "source": [
    "expences=[1200,1400,1700]"
   ]
  },
  {
   "cell_type": "code",
   "execution_count": 4,
   "id": "5186f00b6584f419",
   "metadata": {
    "ExecuteTime": {
     "end_time": "2025-10-22T13:43:25.836722Z",
     "start_time": "2025-10-22T13:43:25.816244Z"
    }
   },
   "outputs": [
    {
     "data": {
      "text/plain": [
       "6"
      ]
     },
     "execution_count": 4,
     "metadata": {},
     "output_type": "execute_result"
    }
   ],
   "source": [
    "point=[5,6]\n",
    "point[1]"
   ]
  },
  {
   "cell_type": "code",
   "execution_count": 6,
   "id": "fd669047",
   "metadata": {},
   "outputs": [
    {
     "data": {
      "text/plain": [
       "5"
      ]
     },
     "execution_count": 6,
     "metadata": {},
     "output_type": "execute_result"
    }
   ],
   "source": [
    "point[0]"
   ]
  },
  {
   "cell_type": "code",
   "execution_count": 7,
   "id": "9c812583",
   "metadata": {},
   "outputs": [
    {
     "data": {
      "text/plain": [
       "list"
      ]
     },
     "execution_count": 7,
     "metadata": {},
     "output_type": "execute_result"
    }
   ],
   "source": [
    "type(point)"
   ]
  },
  {
   "cell_type": "code",
   "execution_count": 11,
   "id": "c809f453",
   "metadata": {},
   "outputs": [
    {
     "data": {
      "text/plain": [
       "tuple"
      ]
     },
     "execution_count": 11,
     "metadata": {},
     "output_type": "execute_result"
    }
   ],
   "source": [
    "point2=(5,6)\n",
    "type(point2)"
   ]
  },
  {
   "cell_type": "code",
   "execution_count": 15,
   "id": "4879c90f",
   "metadata": {},
   "outputs": [
    {
     "data": {
      "text/plain": [
       "5"
      ]
     },
     "execution_count": 15,
     "metadata": {},
     "output_type": "execute_result"
    }
   ],
   "source": [
    "point2[0]"
   ]
  },
  {
   "cell_type": "code",
   "execution_count": 17,
   "id": "f6e42b31",
   "metadata": {},
   "outputs": [
    {
     "data": {
      "text/plain": [
       "6"
      ]
     },
     "execution_count": 17,
     "metadata": {},
     "output_type": "execute_result"
    }
   ],
   "source": [
    "point2[1]"
   ]
  },
  {
   "cell_type": "code",
   "execution_count": 19,
   "id": "9ec9d243",
   "metadata": {},
   "outputs": [
    {
     "ename": "TypeError",
     "evalue": "'tuple' object does not support item assignment",
     "output_type": "error",
     "traceback": [
      "\u001b[0;31m---------------------------------------------------------------------------\u001b[0m",
      "\u001b[0;31mTypeError\u001b[0m                                 Traceback (most recent call last)",
      "Cell \u001b[0;32mIn[19], line 1\u001b[0m\n\u001b[0;32m----> 1\u001b[0m \u001b[43mpoint2\u001b[49m\u001b[43m[\u001b[49m\u001b[38;5;241;43m1\u001b[39;49m\u001b[43m]\u001b[49m\u001b[38;5;241m=\u001b[39m\u001b[38;5;241m7\u001b[39m\n",
      "\u001b[0;31mTypeError\u001b[0m: 'tuple' object does not support item assignment"
     ]
    }
   ],
   "source": [
    "point2[1]=7"
   ]
  },
  {
   "cell_type": "code",
   "execution_count": null,
   "id": "3e2f1a00",
   "metadata": {},
   "outputs": [],
   "source": [
    "# tuple have a fixed size, it's a bit like array, but not an array, so its more eficient than array, it's values are not changeable\n",
    "# when you have a fixed number of value to set, use tuple insted of array"
   ]
  },
  {
   "cell_type": "code",
   "execution_count": 21,
   "id": "5ead2723",
   "metadata": {},
   "outputs": [],
   "source": [
    "point_3d=(5,8,10)"
   ]
  },
  {
   "cell_type": "code",
   "execution_count": 36,
   "id": "e386e4cf",
   "metadata": {},
   "outputs": [],
   "source": [
    "def find_pe_and_pb(price, eps, book_value):\n",
    "    pe = price/eps\n",
    "    pb = price/book_value\n",
    "    return [pe,pb]"
   ]
  },
  {
   "cell_type": "code",
   "execution_count": null,
   "id": "bf2f82ec",
   "metadata": {},
   "outputs": [],
   "source": [
    "# val = find_pe_and_pb(100, 2, 4)"
   ]
  },
  {
   "cell_type": "code",
   "execution_count": null,
   "id": "17c89611",
   "metadata": {},
   "outputs": [
    {
     "data": {
      "text/plain": [
       "50.0"
      ]
     },
     "execution_count": 38,
     "metadata": {},
     "output_type": "execute_result"
    }
   ],
   "source": [
    "# val[0]"
   ]
  },
  {
   "cell_type": "code",
   "execution_count": null,
   "id": "37e2412a",
   "metadata": {},
   "outputs": [
    {
     "data": {
      "text/plain": [
       "25.0"
      ]
     },
     "execution_count": 40,
     "metadata": {},
     "output_type": "execute_result"
    }
   ],
   "source": [
    "# val[1]"
   ]
  },
  {
   "cell_type": "code",
   "execution_count": null,
   "id": "da9434e2",
   "metadata": {},
   "outputs": [],
   "source": [
    "# this val val doesn't make too much sence, it's non readable, so insted of returning array we will return tuple to make it more readable"
   ]
  },
  {
   "cell_type": "code",
   "execution_count": 3,
   "id": "d3bf320f",
   "metadata": {},
   "outputs": [],
   "source": [
    "def find_pe_and_pb(price, eps, book_value):\n",
    "    pe = price/eps\n",
    "    pb = price/book_value\n",
    "    return pe,pb"
   ]
  },
  {
   "cell_type": "code",
   "execution_count": 4,
   "id": "4e621e78",
   "metadata": {},
   "outputs": [],
   "source": [
    "pe_ratio, pb_ratio = find_pe_and_pb(100, 2, 4)"
   ]
  },
  {
   "cell_type": "code",
   "execution_count": 5,
   "id": "e9b970a4",
   "metadata": {},
   "outputs": [
    {
     "data": {
      "text/plain": [
       "50.0"
      ]
     },
     "execution_count": 5,
     "metadata": {},
     "output_type": "execute_result"
    }
   ],
   "source": [
    "pe_ratio"
   ]
  },
  {
   "cell_type": "code",
   "execution_count": 7,
   "id": "a8dedbd8",
   "metadata": {},
   "outputs": [
    {
     "data": {
      "text/plain": [
       "25.0"
      ]
     },
     "execution_count": 7,
     "metadata": {},
     "output_type": "execute_result"
    }
   ],
   "source": [
    "pb_ratio"
   ]
  },
  {
   "cell_type": "code",
   "execution_count": 8,
   "id": "ab415888",
   "metadata": {},
   "outputs": [],
   "source": [
    "contacts = [(\"rachel\",884352340),(\"monica\",4523452315),(\"joey\",542345325)]"
   ]
  },
  {
   "cell_type": "code",
   "execution_count": 9,
   "id": "348411c0",
   "metadata": {},
   "outputs": [
    {
     "name": "stdout",
     "output_type": "stream",
     "text": [
      "4523452315\n"
     ]
    }
   ],
   "source": [
    "for contact in contacts:\n",
    "    if contact[0] == \"monica\":\n",
    "        print(contact[1])"
   ]
  },
  {
   "cell_type": "code",
   "execution_count": 11,
   "id": "52651197",
   "metadata": {},
   "outputs": [
    {
     "data": {
      "text/plain": [
       "{'rachel': 523452352, 'monica': 423534523, 'joey': 4352345523}"
      ]
     },
     "execution_count": 11,
     "metadata": {},
     "output_type": "execute_result"
    }
   ],
   "source": [
    "dictionary = {\n",
    "    \"rachel\": 523452352,\n",
    "    \"monica\": 423534523,\n",
    "    \"joey\": 4352345523\n",
    "}\n",
    "dictionary"
   ]
  },
  {
   "cell_type": "code",
   "execution_count": 12,
   "id": "de4355c9",
   "metadata": {},
   "outputs": [
    {
     "data": {
      "text/plain": [
       "dict"
      ]
     },
     "execution_count": 12,
     "metadata": {},
     "output_type": "execute_result"
    }
   ],
   "source": [
    "type(dictionary)"
   ]
  },
  {
   "cell_type": "code",
   "execution_count": 13,
   "id": "65c5a25a",
   "metadata": {},
   "outputs": [
    {
     "data": {
      "text/plain": [
       "4352345523"
      ]
     },
     "execution_count": 13,
     "metadata": {},
     "output_type": "execute_result"
    }
   ],
   "source": [
    "dictionary[\"joey\"]"
   ]
  },
  {
   "cell_type": "code",
   "execution_count": 14,
   "id": "8231ef09",
   "metadata": {},
   "outputs": [
    {
     "ename": "KeyError",
     "evalue": "'idk'",
     "output_type": "error",
     "traceback": [
      "\u001b[0;31m---------------------------------------------------------------------------\u001b[0m",
      "\u001b[0;31mKeyError\u001b[0m                                  Traceback (most recent call last)",
      "Cell \u001b[0;32mIn[14], line 1\u001b[0m\n\u001b[0;32m----> 1\u001b[0m \u001b[43mdictionary\u001b[49m\u001b[43m[\u001b[49m\u001b[38;5;124;43m\"\u001b[39;49m\u001b[38;5;124;43midk\u001b[39;49m\u001b[38;5;124;43m\"\u001b[39;49m\u001b[43m]\u001b[49m\n",
      "\u001b[0;31mKeyError\u001b[0m: 'idk'"
     ]
    }
   ],
   "source": [
    "dictionary[\"idk\"]"
   ]
  },
  {
   "cell_type": "code",
   "execution_count": 16,
   "id": "ba1e4032",
   "metadata": {},
   "outputs": [],
   "source": [
    "dictionary.get(\"idk\")"
   ]
  },
  {
   "cell_type": "code",
   "execution_count": 17,
   "id": "f24a7575",
   "metadata": {},
   "outputs": [
    {
     "data": {
      "text/plain": [
       "4352345523"
      ]
     },
     "execution_count": 17,
     "metadata": {},
     "output_type": "execute_result"
    }
   ],
   "source": [
    "\n",
    "dictionary.get(\"joey\")"
   ]
  },
  {
   "cell_type": "code",
   "execution_count": 19,
   "id": "191c35bb",
   "metadata": {},
   "outputs": [
    {
     "data": {
      "text/plain": [
       "{'rachel': 45234235, 'monica': 423534523, 'joey': 4352345523}"
      ]
     },
     "execution_count": 19,
     "metadata": {},
     "output_type": "execute_result"
    }
   ],
   "source": [
    "dictionary[\"rachel\"]= 45234235\n",
    "dictionary"
   ]
  },
  {
   "cell_type": "code",
   "execution_count": 20,
   "id": "08db5bf8",
   "metadata": {},
   "outputs": [
    {
     "data": {
      "text/plain": [
       "{'rachel': 45234235,\n",
       " 'monica': 423534523,\n",
       " 'joey': 4352345523,\n",
       " 'newPerson': 5234523453}"
      ]
     },
     "execution_count": 20,
     "metadata": {},
     "output_type": "execute_result"
    }
   ],
   "source": [
    "dictionary[\"newPerson\"] = 5234523453\n",
    "dictionary"
   ]
  },
  {
   "cell_type": "code",
   "execution_count": 21,
   "id": "4e3a47d2",
   "metadata": {},
   "outputs": [
    {
     "data": {
      "text/plain": [
       "{'rachel': 45234235, 'monica': 423534523, 'joey': 4352345523}"
      ]
     },
     "execution_count": 21,
     "metadata": {},
     "output_type": "execute_result"
    }
   ],
   "source": [
    "del dictionary[\"newPerson\"]\n",
    "dictionary"
   ]
  },
  {
   "cell_type": "code",
   "execution_count": 24,
   "id": "cf9a0b73",
   "metadata": {},
   "outputs": [
    {
     "data": {
      "text/plain": [
       "True"
      ]
     },
     "execution_count": 24,
     "metadata": {},
     "output_type": "execute_result"
    }
   ],
   "source": [
    "\"rachel\" in dictionary"
   ]
  },
  {
   "cell_type": "code",
   "execution_count": 23,
   "id": "4fb9598f",
   "metadata": {},
   "outputs": [
    {
     "data": {
      "text/plain": [
       "False"
      ]
     },
     "execution_count": 23,
     "metadata": {},
     "output_type": "execute_result"
    }
   ],
   "source": [
    "\"newPerson\" in dictionary"
   ]
  },
  {
   "cell_type": "code",
   "execution_count": 31,
   "id": "80b86b6a",
   "metadata": {},
   "outputs": [
    {
     "data": {
      "text/plain": [
       "{'phone': 35234, 'address': '1 gsje st'}"
      ]
     },
     "execution_count": 31,
     "metadata": {},
     "output_type": "execute_result"
    }
   ],
   "source": [
    "contact_dict = {\n",
    "    \"rachel\" : {\"phone\":35234, \"address\": \"1 gsje st\"},\n",
    "    \"joey\" : {\"phone\":452345, \"address\": \"2 gsje st\"},\n",
    "}\n",
    "contact_dict[\"rachel\"]"
   ]
  },
  {
   "cell_type": "code",
   "execution_count": 30,
   "id": "a3813dfc",
   "metadata": {},
   "outputs": [
    {
     "data": {
      "text/plain": [
       "35234"
      ]
     },
     "execution_count": 30,
     "metadata": {},
     "output_type": "execute_result"
    }
   ],
   "source": [
    "contact_dict[\"rachel\"][\"phone\"]"
   ]
  },
  {
   "cell_type": "code",
   "execution_count": 33,
   "id": "f15a4902",
   "metadata": {},
   "outputs": [
    {
     "name": "stdout",
     "output_type": "stream",
     "text": [
      "rachel\n",
      "monica\n",
      "joey\n"
     ]
    }
   ],
   "source": [
    "for name in dictionary:\n",
    "    print(name)"
   ]
  },
  {
   "cell_type": "code",
   "execution_count": 35,
   "id": "fe856004",
   "metadata": {},
   "outputs": [
    {
     "name": "stdout",
     "output_type": "stream",
     "text": [
      "rachel 45234235\n",
      "monica 423534523\n",
      "joey 4352345523\n"
     ]
    }
   ],
   "source": [
    "for name, number in dictionary.items():\n",
    "    print(name, number)"
   ]
  },
  {
   "cell_type": "code",
   "execution_count": 36,
   "id": "fb4d6652",
   "metadata": {},
   "outputs": [
    {
     "data": {
      "text/plain": [
       "dict_keys(['rachel', 'monica', 'joey'])"
      ]
     },
     "execution_count": 36,
     "metadata": {},
     "output_type": "execute_result"
    }
   ],
   "source": [
    "dictionary.keys()"
   ]
  },
  {
   "cell_type": "code",
   "execution_count": 37,
   "id": "a2912bca",
   "metadata": {},
   "outputs": [
    {
     "data": {
      "text/plain": [
       "dict_values([45234235, 423534523, 4352345523])"
      ]
     },
     "execution_count": 37,
     "metadata": {},
     "output_type": "execute_result"
    }
   ],
   "source": [
    "dictionary.values()"
   ]
  },
  {
   "cell_type": "code",
   "execution_count": 39,
   "id": "062841a4",
   "metadata": {},
   "outputs": [],
   "source": [
    "apple_revenues = {\n",
    "    \"USA\": {\n",
    "        \"iPhone\": 20,\n",
    "        \"iPad\": 12,\n",
    "        \"MacBook\": 8\n",
    "    },\n",
    "    \"China\": {\n",
    "        \"iPhone\": 17,\n",
    "        \"iPad\": 9,\n",
    "        \"MacBook\": 6\n",
    "    },\n",
    "    \"India\": {\n",
    "        \"iPhone\": 9,\n",
    "        \"iPad\": 4,\n",
    "        \"MacBook\": 2\n",
    "    }\n",
    "}"
   ]
  },
  {
   "cell_type": "code",
   "execution_count": 40,
   "id": "af9efba3",
   "metadata": {},
   "outputs": [
    {
     "name": "stdout",
     "output_type": "stream",
     "text": [
      "USA iPhone : 20 million $\n",
      "USA iPad : 12 million $\n",
      "USA MacBook : 8 million $\n",
      "China iPhone : 17 million $\n",
      "China iPad : 9 million $\n",
      "China MacBook : 6 million $\n",
      "India iPhone : 9 million $\n",
      "India iPad : 4 million $\n",
      "India MacBook : 2 million $\n"
     ]
    }
   ],
   "source": [
    "for country, productData in apple_revenues.items():\n",
    "    for product, revenue in productData.items():\n",
    "        print(f\"{country} {product} : {revenue} million $\")"
   ]
  },
  {
   "cell_type": "code",
   "execution_count": 41,
   "id": "3f28f8cf",
   "metadata": {},
   "outputs": [
    {
     "data": {
      "text/plain": [
       "['__class__',\n",
       " '__class_getitem__',\n",
       " '__contains__',\n",
       " '__delattr__',\n",
       " '__delitem__',\n",
       " '__dir__',\n",
       " '__doc__',\n",
       " '__eq__',\n",
       " '__format__',\n",
       " '__ge__',\n",
       " '__getattribute__',\n",
       " '__getitem__',\n",
       " '__gt__',\n",
       " '__hash__',\n",
       " '__init__',\n",
       " '__init_subclass__',\n",
       " '__ior__',\n",
       " '__iter__',\n",
       " '__le__',\n",
       " '__len__',\n",
       " '__lt__',\n",
       " '__ne__',\n",
       " '__new__',\n",
       " '__or__',\n",
       " '__reduce__',\n",
       " '__reduce_ex__',\n",
       " '__repr__',\n",
       " '__reversed__',\n",
       " '__ror__',\n",
       " '__setattr__',\n",
       " '__setitem__',\n",
       " '__sizeof__',\n",
       " '__str__',\n",
       " '__subclasshook__',\n",
       " 'clear',\n",
       " 'copy',\n",
       " 'fromkeys',\n",
       " 'get',\n",
       " 'items',\n",
       " 'keys',\n",
       " 'pop',\n",
       " 'popitem',\n",
       " 'setdefault',\n",
       " 'update',\n",
       " 'values']"
      ]
     },
     "execution_count": 41,
     "metadata": {},
     "output_type": "execute_result"
    }
   ],
   "source": [
    "dir(dictionary)"
   ]
  },
  {
   "cell_type": "code",
   "execution_count": null,
   "id": "dcbc8505",
   "metadata": {},
   "outputs": [],
   "source": []
  }
 ],
 "metadata": {
  "kernelspec": {
   "display_name": ".venv",
   "language": "python",
   "name": "python3"
  },
  "language_info": {
   "codemirror_mode": {
    "name": "ipython",
    "version": 3
   },
   "file_extension": ".py",
   "mimetype": "text/x-python",
   "name": "python",
   "nbconvert_exporter": "python",
   "pygments_lexer": "ipython3",
   "version": "3.10.11"
  }
 },
 "nbformat": 4,
 "nbformat_minor": 5
}
