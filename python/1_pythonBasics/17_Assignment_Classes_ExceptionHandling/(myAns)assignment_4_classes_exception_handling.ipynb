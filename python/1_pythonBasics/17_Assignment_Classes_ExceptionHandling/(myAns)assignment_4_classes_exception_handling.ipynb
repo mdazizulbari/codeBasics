{
 "cells": [
  {
   "cell_type": "markdown",
   "metadata": {},
   "source": [
    "<h2 align=\"center\" style=\"color:blue\">Codebasics Python Course: Classes & File Handling</h2>\n"
   ]
  },
  {
   "cell_type": "markdown",
   "metadata": {},
   "source": [
    "**Background:** AtliQ, a software-based service company, operates an internal library to support the continuous learning and development of its employees. The library contains various types of items, such as books and journals, available for borrowing.\n",
    "\n",
    "**Problem Statement:** Celina, the librarian at AtliQ, currently handles the logistics of borrowing and returning items manually, which includes managing the status of each item and handling exceptions like borrowing attempts on items that are already loaned out. Your task is to assist Celina by automating part of her workload by completing the following tasks using Python.\n"
   ]
  },
  {
   "cell_type": "markdown",
   "metadata": {},
   "source": [
    "### Task 1: Implement the LibraryItem Class\n",
    "\n",
    "**Scenario:** Help Celina automate the borrowing and returning process for items in AtliQ's library.\n",
    "\n",
    "**Task:** Create a Python class `LibraryItem` with the following structure:\n",
    "\n",
    "**Attributes:**\n",
    "\n",
    "`title:` Name of the item.\n",
    "\n",
    "`is_borrowed:` Boolean, True if borrowed, False otherwise.\n",
    "\n",
    "**Methods:**\n",
    "\n",
    "`borrow_item()`: If is_borrowed is True, raise an exception\n",
    "\n",
    "`raise Exception(f\"The item '{self.title}' is already borrowed.\")`\n",
    "\n",
    "Otherwise, set `is_borrowed` to True.\n",
    "\n",
    "`return_item()` should also have a similar logic.\n"
   ]
  },
  {
   "cell_type": "code",
   "execution_count": 3,
   "metadata": {},
   "outputs": [],
   "source": [
    "# write your code here\n",
    "class LibraryItem:\n",
    "    def __init__(self, title, is_borrowed):\n",
    "        self.title = title\n",
    "        self.is_borrowed = is_borrowed\n",
    "\n",
    "    def borrow_item(self):\n",
    "        if self.is_borrowed:\n",
    "            raise Exception(f\"The item '{self.title}' is already borrowed.\")\n",
    "        # ← NO 'else' needed!\n",
    "        self.is_borrowed = True  # ← runs ONLY if if-block skipped\n",
    "\n",
    "    def return_item(self):\n",
    "        if not self.is_borrowed:\n",
    "            raise Exception(f\"The item '{self.title}' has not been borrowed.\")\n",
    "        self.is_borrowed = False"
   ]
  },
  {
   "cell_type": "markdown",
   "metadata": {},
   "source": [
    "### Task 2: Create the Book Class\n",
    "\n",
    "**Scenario:** Celina at AtliQ's library needs to catalog books separately from other items to provide detailed information, including the authors' names.\n",
    "\n",
    "**Task:** Develop a derived class Book from `LibraryItem` to manage books with additional details.\n",
    "\n",
    "**Details:**\n",
    "\n",
    "**1. Attributes:**\n",
    "\n",
    "- Inherits all attributes from `LibraryItem`.\n",
    "\n",
    "- `author`: Name of the book's author.\n",
    "\n",
    "**2. Implementation:**\n",
    "\n",
    "- Create an object of the Book class with:\n",
    "  - `title`: \"The Magic of Thinking Big\"\n",
    "  - `author`: \"David Schwartz\"\n",
    "\n",
    "This will help Celina keep a more detailed inventory and enhance the library’s catalog system.\n"
   ]
  },
  {
   "cell_type": "code",
   "execution_count": 4,
   "metadata": {},
   "outputs": [
    {
     "data": {
      "text/plain": [
       "'David Schwartz'"
      ]
     },
     "execution_count": 4,
     "metadata": {},
     "output_type": "execute_result"
    }
   ],
   "source": [
    "# write your code here\n",
    "class Book(LibraryItem):  # child class\n",
    "    # constructor\n",
    "    def __init__(\n",
    "        self,\n",
    "        title,\n",
    "        author,\n",
    "        is_borrowed,\n",
    "    ):\n",
    "        super().__init__(title, is_borrowed)  # getting from parent\n",
    "        self.author = author\n",
    "\n",
    "\n",
    "the_magic = Book(\"The Magic of Thinking Big\", \"David Schwartz\", False)\n",
    "\n",
    "# the_magic_of_thinking_big.title\n",
    "the_magic.author"
   ]
  },
  {
   "cell_type": "markdown",
   "metadata": {},
   "source": [
    "### Task 3: Create the Journal Class\n",
    "\n",
    "**Scenario:** Celina needs to manage journals effectively in AtliQ's library, where each journal has specific issues that are often requested by staff for their research and development work.\n",
    "\n",
    "**Task:** Develop a derived class `Journal` from `LibraryItem` to manage journals with specific issue numbers.\n",
    "\n",
    "**Details:**\n",
    "\n",
    "**1. Attributes:**\n",
    "\n",
    "- Inherits all attributes from `LibraryItem`.\n",
    "- `issue_number`: The specific issue number of the journal.\n",
    "\n",
    "**2. Implementation:**\n",
    "\n",
    "- Create an object of the Journal class with:\n",
    "  - `title`: \"Nature\"\n",
    "  - `issue_number` : 50\n",
    "\n",
    "This setup will help Celina organize journals by issue number, making them easier to locate and manage.\n"
   ]
  },
  {
   "cell_type": "code",
   "execution_count": null,
   "metadata": {},
   "outputs": [
    {
     "data": {
      "text/plain": [
       "'Nature'"
      ]
     },
     "execution_count": 13,
     "metadata": {},
     "output_type": "execute_result"
    }
   ],
   "source": [
    "# write your code here\n",
    "class Journal(LibraryItem):  # child class\n",
    "    # constructor\n",
    "    def __init__(\n",
    "        self,\n",
    "        title,\n",
    "        issue_number,\n",
    "        is_borrowed,\n",
    "    ):\n",
    "        super().__init__(title, is_borrowed)  # getting from parent\n",
    "        self.issue_number = issue_number\n",
    "\n",
    "\n",
    "nature = Journal(\"Nature\", 50, False)\n",
    "\n",
    "nature.title\n",
    "# nature.issue_number"
   ]
  },
  {
   "cell_type": "markdown",
   "metadata": {},
   "source": [
    "### Task 4: Handle Borrowing Exceptions\n",
    "\n",
    "**Scenario:** Celina sometimes gets requests to borrow a book that’s already borrowed. To prevent this, we need to handle this situation in our code.\n",
    "\n",
    "**Task:** Try borrowing the same book twice and handle the exception that occurs.\n",
    "\n",
    "**Details:**\n",
    "\n",
    "**1. Process:**\n",
    "\n",
    "- Use the Book object from Task 2.\n",
    "- Attempt to borrow the book two times in a row.\n",
    "\n",
    "**2. Exception Handling:**\n",
    "\n",
    "- Catch the exception raised when trying to borrow it the second time.\n",
    "- Print the exception message.\n",
    "\n",
    "This will help Celina prevent errors when someone tries to borrow an already borrowed book.\n"
   ]
  },
  {
   "cell_type": "code",
   "execution_count": 9,
   "metadata": {},
   "outputs": [
    {
     "name": "stdout",
     "output_type": "stream",
     "text": [
      "The item 'The Magic of Thinking Big' is already borrowed.\n"
     ]
    }
   ],
   "source": [
    "# write your code here\n",
    "try:\n",
    "    the_magic.borrow_item()\n",
    "except Exception as e:\n",
    "    print(e)  # → The item 'Singularity' is already borrowed.\n"
   ]
  },
  {
   "cell_type": "markdown",
   "metadata": {},
   "source": [
    "### Task 5: Handle Return Exceptions\n",
    "\n",
    "**Scenario:** Celina sometimes faces issues when someone tries to return a journal that hasn’t been borrowed yet. This creates an opportunity to ensure such mistakes are handled gracefully.\n",
    "\n",
    "**Task:** Simulate and handle the exception when trying to return a journal that has not been borrowed.\n",
    "\n",
    "**Details:**\n",
    "\n",
    "**1. Process:**\n",
    "\n",
    "- Use the Journal object from Task 3.\n",
    "- Attempt to return the journal without it being borrowed first.\n",
    "\n",
    "**2. Exception Handling:**\n",
    "\n",
    "- Catch the exception that occurs when trying to return the un-borrowed journal.\n",
    "- Print the exception message.\n",
    "\n",
    "This will assist Celina in managing return processes more efficiently and prevent unnecessary errors.\n"
   ]
  },
  {
   "cell_type": "code",
   "execution_count": 6,
   "metadata": {},
   "outputs": [],
   "source": [
    "# write your code here\n"
   ]
  }
 ],
 "metadata": {
  "colab": {
   "collapsed_sections": [],
   "name": "1_Variables.ipynb",
   "provenance": []
  },
  "kernelspec": {
   "display_name": ".venv",
   "language": "python",
   "name": "python3"
  },
  "language_info": {
   "codemirror_mode": {
    "name": "ipython",
    "version": 3
   },
   "file_extension": ".py",
   "mimetype": "text/x-python",
   "name": "python",
   "nbconvert_exporter": "python",
   "pygments_lexer": "ipython3",
   "version": "3.10.11"
  }
 },
 "nbformat": 4,
 "nbformat_minor": 4
}
